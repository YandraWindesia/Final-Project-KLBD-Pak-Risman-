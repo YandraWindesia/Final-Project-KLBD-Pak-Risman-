{
  "nbformat": 4,
  "nbformat_minor": 0,
  "metadata": {
    "colab": {
      "provenance": [],
      "authorship_tag": "ABX9TyNFsOZKmUgpc6XNUGAY5iMe",
      "include_colab_link": true
    },
    "kernelspec": {
      "name": "python3",
      "display_name": "Python 3"
    },
    "language_info": {
      "name": "python"
    }
  },
  "cells": [
    {
      "cell_type": "markdown",
      "metadata": {
        "id": "view-in-github",
        "colab_type": "text"
      },
      "source": [
        "<a href=\"https://colab.research.google.com/github/YandraWindesia/Final-Project-KLBD-Pak-Risman-/blob/main/Introduction.ipynb\" target=\"_parent\"><img src=\"https://colab.research.google.com/assets/colab-badge.svg\" alt=\"Open In Colab\"/></a>"
      ]
    },
    {
      "cell_type": "markdown",
      "source": [
        "# Introduction\n",
        "\n",
        "This repository presents a comprehensive implementation of collaborative filtering recommender systems, from memory-based collaborative filtering to more advanced machine learning algorithms. It starts by implementing basics collaborative filtering algorithms such as user-based collaborative filering also known as user-to-user collaborative filtering and item-based collaborative filtering (item-to-item collaborative filtering). This repository also goes through dimensionality reduction based recommendation system. It presents models such as Singular Value Decomposition (SVD), Matrix Factorization (MF), Non Negative Matrix Factorization (NMF) and Explainable Matrix Factorization (EMF).\n",
        "\n",
        "# Content\n",
        "\n",
        "The topics covered in this repository are as follows : We first explore the movielen data\n",
        "\n",
        "1. Data exploration : this notebook explore the movielen lasted small dataset. This dataset is used throughout this repository to build collaborative filtering recommender systems.\n",
        "\n",
        "Then the model we implemented are the followings\n",
        "\n",
        "## 1. Memory-based Collaborative Filtering\n",
        "\n",
        "Two main algorithms :\n",
        "\n",
        "2. User-based (or user to user) Collaborative Filtering : implements user-based collaborative filtering.\n",
        "\n",
        "3. Item-based (or item to item) Collaborative Filtering : implements item-based collaborative filtering.\n",
        "\n",
        "## 2. Dimensionality reduction\n",
        "\n",
        "Here the explored models are :\n",
        "\n",
        "4. Singular Value Decomposition (SVD) : implements dimensionality reduction with Singular Value Decomposition for collaborative filtering recommender systems\n",
        "\n",
        "5. Matrix Factorization : builds and trains a Matrix Factorization based recommender system.\n",
        "\n",
        "6. Non Negative Matrix Factorization: applying non negativity to the learnt factors of matrix factorization.\n",
        "\n",
        "7. Explainable Matrix Factorization: add explainability to matrix factorization factors in order to improve recommendation performances.\n",
        "\n",
        "## 3. Performances comparison\n",
        "\n",
        "8. Performances comparison: this notebook presents an overall performance comparaison of all the models listed before."
      ],
      "metadata": {
        "id": "tQN164EEhRM7"
      }
    }
  ]
}